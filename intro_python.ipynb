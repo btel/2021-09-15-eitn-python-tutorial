{
 "cells": [
  {
   "cell_type": "markdown",
   "id": "0e7e25de-c932-4cea-9584-901a3598c37a",
   "metadata": {},
   "source": [
    "# Getting started with data analysis in Python\n",
    "\n",
    "Bartosz Telenczuk, 2021\n",
    "https://github.com/btel\n",
    "\n",
    "This work is marked with CC0 1.0. To view a copy of this license, visit http://creativecommons.org/publicdomain/zero/1.0\n",
    "\n",
    "\n",
    "Some of the examples were taken from [\"Plotting and Programming in Python\"](http://swcarpentry.github.io/python-novice-gapminder/index.html) by [The Carpentries](https://carpentries.org/), licensed under [CC BY 4.0](https://creativecommons.org/licenses/by/4.0/)"
   ]
  },
  {
   "cell_type": "markdown",
   "id": "12b590e4-8513-4369-91f9-6d166f988df9",
   "metadata": {},
   "source": [
    "## Intro to Python for (data) scientists"
   ]
  },
  {
   "cell_type": "markdown",
   "id": "53cc5e5d-cd97-40ad-abe5-783c09dadcac",
   "metadata": {},
   "source": [
    "### JupyterLab"
   ]
  },
  {
   "cell_type": "markdown",
   "id": "77e19b7c-96ab-4604-9b17-0bc941f24356",
   "metadata": {},
   "source": [
    "* starting\n",
    "* creating jupyter notebook\n",
    "* keyboard shorcuts: `Enter` (to enter edito mode), `Shit-Enter` (Run), `Esc` (enter command mode), `M` (markdown, in command mode), `X` (remove cell, in command mode)"
   ]
  },
  {
   "cell_type": "markdown",
   "id": "d0af88b0-bea0-4370-9cbd-d9834c7fb4e1",
   "metadata": {},
   "source": [
    "### Variables"
   ]
  },
  {
   "cell_type": "markdown",
   "id": "71274241-8358-43f8-8aca-163e79bf89dd",
   "metadata": {},
   "source": [
    "* defining strings and integers\n",
    "* variables stay defined even if you remove a cell\n",
    "* indexing with integers and slices\n",
    "* zero-based indexing!\n",
    "* type"
   ]
  },
  {
   "cell_type": "code",
   "execution_count": null,
   "id": "b1ad519c-c774-4555-8a1a-fb0d66392df1",
   "metadata": {},
   "outputs": [],
   "source": [
    "first_name = 'Adam'\n",
    "age = 100\n",
    "print(first_name, 'is', age, 'years old')"
   ]
  },
  {
   "cell_type": "code",
   "execution_count": null,
   "id": "67265f2e-15d6-40e9-ae73-17ff43ad3c66",
   "metadata": {},
   "outputs": [],
   "source": [
    "first_name[0]"
   ]
  },
  {
   "cell_type": "code",
   "execution_count": null,
   "id": "67d440cc-8fa9-494b-9ee9-d73d74598a0a",
   "metadata": {},
   "outputs": [],
   "source": [
    "first_name[1:3]"
   ]
  },
  {
   "cell_type": "code",
   "execution_count": null,
   "id": "62aed2b9-e329-4b0c-be62-e3bfee8eecc3",
   "metadata": {},
   "outputs": [],
   "source": [
    "type(first_name)"
   ]
  },
  {
   "cell_type": "code",
   "execution_count": null,
   "id": "d4caf311-f345-4793-8a59-3c5ccc4611ec",
   "metadata": {},
   "outputs": [],
   "source": [
    "type(age)"
   ]
  },
  {
   "cell_type": "markdown",
   "id": "f1f6d11e-b0e1-49e4-a99c-f3e10e3a444d",
   "metadata": {},
   "source": [
    "**Exercise** Test the following operations in your notebook. Which output do the produce?  What is the type?\n",
    "\n",
    "```python\n",
    "first_name = 'Adam'\n",
    "age = 100\n",
    "\n",
    "variable_1 = 'hello' + first_name\n",
    "variable_2 = age + 1\n",
    "variable_3 = 5.1\n",
    "variable_4 = first_name + 1\n",
    "```"
   ]
  },
  {
   "cell_type": "markdown",
   "id": "c191c788-c431-4e57-afbc-6e9b3e54a05f",
   "metadata": {},
   "source": [
    "### Built-in functions, methods and and help"
   ]
  },
  {
   "cell_type": "markdown",
   "id": "1f79fdd5-0dfc-4e6b-9f72-99d321faf01a",
   "metadata": {},
   "source": [
    "* builtin functions\n",
    "* positional arguments\n",
    "* string methods\n",
    "* official Python docs: https://docs.python.org/3/\n",
    "* types have methods"
   ]
  },
  {
   "cell_type": "code",
   "execution_count": null,
   "id": "eeac97c5-1d62-4d45-b185-c4a70bb7d63d",
   "metadata": {},
   "outputs": [],
   "source": [
    "max(1, 5, -2)"
   ]
  },
  {
   "cell_type": "code",
   "execution_count": null,
   "id": "d6cea96f-c6cc-4a8c-b82e-a8bcdadf0650",
   "metadata": {},
   "outputs": [],
   "source": [
    "help(max)"
   ]
  },
  {
   "cell_type": "code",
   "execution_count": null,
   "id": "650d390e-b9b5-45d8-ac10-3f3cbffa5bd0",
   "metadata": {},
   "outputs": [],
   "source": [
    "max(first_name)"
   ]
  },
  {
   "cell_type": "code",
   "execution_count": null,
   "id": "444a8308-df11-492a-97f8-33f16bf278b6",
   "metadata": {},
   "outputs": [],
   "source": [
    "first_name.upper()"
   ]
  },
  {
   "cell_type": "markdown",
   "id": "170a2785-38f6-46aa-aaf5-9750aa5b0b27",
   "metadata": {},
   "source": [
    "#### Exercise (comparing strings)\n",
    "\n",
    "What will the following program show:\n",
    "\n",
    "```python\n",
    "rich = \"gold\"\n",
    "poor = \"tin\"\n",
    "print(max(rich, poor))\n",
    "```"
   ]
  },
  {
   "cell_type": "markdown",
   "id": "b24e814d-bbef-4f42-96ee-77de497bbb0b",
   "metadata": {},
   "source": [
    "## Data analysis with pandas"
   ]
  },
  {
   "cell_type": "markdown",
   "id": "73740b0d-cca6-4c14-ab51-5d088f9228cd",
   "metadata": {},
   "source": [
    "### Working with data"
   ]
  },
  {
   "cell_type": "markdown",
   "id": "57a1515a-7a5d-451f-8d47-b72a0b275234",
   "metadata": {},
   "source": [
    "* openning files in jupyter lab\n",
    "* importing extra function libraries (pandas)\n",
    "* importing csv data with read_csv\n",
    "* keyword arguments\n",
    "* showing dataframe"
   ]
  },
  {
   "cell_type": "code",
   "execution_count": null,
   "id": "9e189048-8bb9-460c-aaf1-5d8f05c548e2",
   "metadata": {},
   "outputs": [],
   "source": [
    "import pandas as pd"
   ]
  },
  {
   "cell_type": "code",
   "execution_count": null,
   "id": "336e0ca5-dca9-4157-b11e-e327b7bee961",
   "metadata": {},
   "outputs": [],
   "source": [
    "# df = pd.read_csv(\"https://www4.stat.ncsu.edu/~boos/var.select/diabetes.tab.txt\", delimiter='\\t')\n",
    "df = pd.read_csv(\"diabetes.tab.txt\", delimiter='\\t')"
   ]
  },
  {
   "cell_type": "code",
   "execution_count": null,
   "id": "3b5ebbd8-3fce-4fdb-bac5-4451c3adcd3d",
   "metadata": {},
   "outputs": [],
   "source": [
    "df"
   ]
  },
  {
   "cell_type": "markdown",
   "id": "87fdf7fa-5196-404a-a43d-2a0ad5cd7b02",
   "metadata": {},
   "source": [
    "Try `pd.read_<Tab>` to find other formats (or look them up in docs)"
   ]
  },
  {
   "cell_type": "markdown",
   "id": "bcb3dc3c-5068-4b2a-9eb6-d8ac9ef4fc3d",
   "metadata": {},
   "source": [
    "### Plotting\n",
    "\n",
    "* line and dot plots\n",
    "* histograms\n",
    "* scatter plots"
   ]
  },
  {
   "cell_type": "code",
   "execution_count": null,
   "id": "7d4d8103-613d-48f0-8327-60d262580213",
   "metadata": {},
   "outputs": [],
   "source": [
    "df.plot()"
   ]
  },
  {
   "cell_type": "code",
   "execution_count": null,
   "id": "7a729513-abd6-44c1-92de-5d294e640a8e",
   "metadata": {},
   "outputs": [],
   "source": [
    "df.plot('S1', 'S2')"
   ]
  },
  {
   "cell_type": "code",
   "execution_count": null,
   "id": "ad007068-7b86-45fb-acad-f2503c98877b",
   "metadata": {},
   "outputs": [],
   "source": [
    "df.plot('S1', 'S2', style='.')"
   ]
  },
  {
   "cell_type": "code",
   "execution_count": null,
   "id": "2021b125-e809-4d4c-910f-3e095bf5169d",
   "metadata": {},
   "outputs": [],
   "source": [
    "df.plot(kind='hist')"
   ]
  },
  {
   "cell_type": "markdown",
   "id": "c876dae3-f7ef-486a-b90e-ad0ec46b8dda",
   "metadata": {},
   "source": [
    "#### Exercise (plotting styles)\n",
    "\n",
    "Plot the relation between age and BMI using different ploting styles (such as 'o', ':', '-.', 'ro', 'bo')"
   ]
  },
  {
   "cell_type": "markdown",
   "id": "55bcdd13-0e93-4572-af11-41136dc3d789",
   "metadata": {},
   "source": [
    "### Indexing data frame\n",
    "\n",
    "* extract column\n",
    "* iloc vs loc\n",
    "* dataframe index\n",
    "* two-dimensional indexing\n",
    "* using empty slice\n"
   ]
  },
  {
   "cell_type": "code",
   "execution_count": null,
   "id": "09eda2af-8de2-484b-a2ad-d02ece0dd139",
   "metadata": {},
   "outputs": [],
   "source": [
    "df['AGE'].plot(kind='hist')"
   ]
  },
  {
   "cell_type": "code",
   "execution_count": null,
   "id": "13615327-545c-4e1f-a4e1-a5e188548592",
   "metadata": {},
   "outputs": [],
   "source": [
    "stats = df.describe()\n",
    "stats"
   ]
  },
  {
   "cell_type": "code",
   "execution_count": null,
   "id": "5ad6a7c4-2885-4dca-9bd8-652a516e8e46",
   "metadata": {},
   "outputs": [],
   "source": [
    "stats.iloc[1]"
   ]
  },
  {
   "cell_type": "code",
   "execution_count": null,
   "id": "8bd55582-56f3-4742-b920-0cb3224c21ff",
   "metadata": {},
   "outputs": [],
   "source": [
    "mean_ = stats.loc['mean']\n",
    "std_ = stats.loc['std']"
   ]
  },
  {
   "cell_type": "code",
   "execution_count": null,
   "id": "d9129096-c1e7-4023-8d66-487a2cb48643",
   "metadata": {},
   "outputs": [],
   "source": [
    "stats.loc['mean' , 'S1']"
   ]
  },
  {
   "cell_type": "code",
   "execution_count": null,
   "id": "fe8f3e10-9c66-4a52-9978-b75af9ade853",
   "metadata": {},
   "outputs": [],
   "source": [
    "stats.loc[:, 'S1']"
   ]
  },
  {
   "cell_type": "markdown",
   "id": "fa0c1d98-b2fe-4e2a-88bf-6427c24b3021",
   "metadata": {},
   "source": [
    "#### Exercise (automatic alignment)\n",
    "\n",
    "Normalize all variables in the data frame (subtract mean and divide by standard deviation)"
   ]
  },
  {
   "cell_type": "markdown",
   "id": "d933ed86-2e3e-4996-9216-0cab58f071df",
   "metadata": {},
   "source": [
    "## Linear regression with sklearn\n",
    "\n",
    "* split data into train/test set\n",
    "* plotting with matplotlib\n",
    "* fitting scikit learn linear regression on train set\n",
    "* predicting on test set"
   ]
  },
  {
   "cell_type": "code",
   "execution_count": null,
   "id": "5ed1b980-18bc-4cf6-bde1-d252e362832d",
   "metadata": {},
   "outputs": [],
   "source": [
    "df.plot(x='S1', y='S2', style='.')"
   ]
  },
  {
   "cell_type": "code",
   "execution_count": null,
   "id": "2b91f8f9-7c7e-4d1e-a534-305b4ae428bc",
   "metadata": {},
   "outputs": [],
   "source": [
    "from sklearn.model_selection import train_test_split"
   ]
  },
  {
   "cell_type": "code",
   "execution_count": null,
   "id": "79753d3c-ac8a-443b-aa14-f337481246dd",
   "metadata": {},
   "outputs": [],
   "source": [
    "X = df.loc[:, ['AGE', 'BMI', 'S1']]\n",
    "y = df.loc[:, 'S2']"
   ]
  },
  {
   "cell_type": "code",
   "execution_count": null,
   "id": "f8c48d14-c088-4953-bc58-ae68fc1f6f4d",
   "metadata": {},
   "outputs": [],
   "source": [
    "X_train, X_test, y_train, y_test = train_test_split(X, y, test_size=0.3)"
   ]
  },
  {
   "cell_type": "code",
   "execution_count": null,
   "id": "2d38691f-5802-47c3-a4be-15a4bc7584e3",
   "metadata": {},
   "outputs": [],
   "source": [
    "import matplotlib.pyplot as plt\n",
    "plt.plot(X_test.loc[:, 'S1'], y_test, '.')"
   ]
  },
  {
   "cell_type": "code",
   "execution_count": null,
   "id": "5e9ca536-c666-41f0-9c5c-89a031295acc",
   "metadata": {},
   "outputs": [],
   "source": [
    "from sklearn.linear_model import LinearRegression"
   ]
  },
  {
   "cell_type": "code",
   "execution_count": null,
   "id": "6cceb02f-a870-4cdf-9d79-8e1ac55afe6a",
   "metadata": {},
   "outputs": [],
   "source": [
    "lr = LinearRegression()\n",
    "lr.fit(X_train, y_train)"
   ]
  },
  {
   "cell_type": "code",
   "execution_count": null,
   "id": "b959dd09-8227-4650-9b0c-bde4bf84e802",
   "metadata": {},
   "outputs": [],
   "source": [
    "lr.coef_"
   ]
  },
  {
   "cell_type": "markdown",
   "id": "7c17d5ae-0411-4b55-b06e-8211ffe50e5c",
   "metadata": {},
   "source": [
    "**Question** Why do we have 3 different coefficients?"
   ]
  },
  {
   "cell_type": "code",
   "execution_count": null,
   "id": "d75b9a5c-4f38-445b-8ff0-42954e517575",
   "metadata": {},
   "outputs": [],
   "source": [
    "y_pred = lr.predict(X_test)"
   ]
  },
  {
   "cell_type": "code",
   "execution_count": null,
   "id": "ff976327-3341-4fe1-b662-95f70f44cb46",
   "metadata": {},
   "outputs": [],
   "source": [
    "plt.plot(X_test.loc[:, 'S1'], y_test, '.')\n",
    "plt.plot(X_test.loc[:, 'S1'], y_pred, 'r.')"
   ]
  },
  {
   "cell_type": "code",
   "execution_count": null,
   "id": "d6063fbe-9403-4c1a-92af-6853a9e4ae09",
   "metadata": {},
   "outputs": [],
   "source": []
  },
  {
   "cell_type": "code",
   "execution_count": null,
   "id": "250a2297-e03a-4edc-ae94-24c667b8d265",
   "metadata": {},
   "outputs": [],
   "source": []
  }
 ],
 "metadata": {
  "kernelspec": {
   "display_name": "Python 3",
   "language": "python",
   "name": "python3"
  },
  "language_info": {
   "codemirror_mode": {
    "name": "ipython",
    "version": 3
   },
   "file_extension": ".py",
   "mimetype": "text/x-python",
   "name": "python",
   "nbconvert_exporter": "python",
   "pygments_lexer": "ipython3",
   "version": "3.8.8"
  }
 },
 "nbformat": 4,
 "nbformat_minor": 5
}
